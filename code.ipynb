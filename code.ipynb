{
  "nbformat": 4,
  "nbformat_minor": 0,
  "metadata": {
    "colab": {
      "name": "MAO_TaDangKhoa_HE130813.ipynb",
      "provenance": [],
      "collapsed_sections": [
        "T6NrVir87Tfn",
        "3Ym4NQci3YKo",
        "13cfGNK-3Z9W"
      ]
    },
    "kernelspec": {
      "name": "python3",
      "display_name": "Python 3"
    },
    "accelerator": "GPU"
  },
  "cells": [
    {
      "cell_type": "code",
      "metadata": {
        "id": "muTSNz5g4t7O",
        "colab_type": "code",
        "colab": {
          "base_uri": "https://localhost:8080/",
          "height": 122
        },
        "outputId": "55395c1f-98ef-4916-a62b-8cab91eecec0"
      },
      "source": [
        "import datetime\n",
        "import numpy as np\n",
        "from random import randint\n",
        "!pip install cplex\n",
        "import cplex\n",
        "import math"
      ],
      "execution_count": null,
      "outputs": [
        {
          "output_type": "stream",
          "text": [
            "Collecting cplex\n",
            "\u001b[?25l  Downloading https://files.pythonhosted.org/packages/ad/6d/aae85346c7595e29565638ad5f7f9ad2ef8956815f9b7e6cdde7c8815f33/cplex-12.10.0.2-cp36-cp36m-manylinux1_x86_64.whl (31.0MB)\n",
            "\u001b[K     |████████████████████████████████| 31.0MB 103kB/s \n",
            "\u001b[?25hInstalling collected packages: cplex\n",
            "Successfully installed cplex-12.10.0.2\n"
          ],
          "name": "stdout"
        }
      ]
    },
    {
      "cell_type": "markdown",
      "metadata": {
        "id": "zO1wK_Lm6fIO",
        "colab_type": "text"
      },
      "source": [
        "# **Part 1: Simplex Method for Linear Program (LP)**"
      ]
    },
    {
      "cell_type": "markdown",
      "metadata": {
        "id": "t8Ua1Sp8KMpz",
        "colab_type": "text"
      },
      "source": [
        "#### **1)** Generate input matrices of standard linear program in matrix form."
      ]
    },
    {
      "cell_type": "markdown",
      "metadata": {
        "id": "TLpKsl9k4-N9",
        "colab_type": "text"
      },
      "source": [
        "##### Function"
      ]
    },
    {
      "cell_type": "code",
      "metadata": {
        "id": "UKhYyhdD6dTe",
        "colab_type": "code",
        "colab": {}
      },
      "source": [
        "def generate_matrix(m=False, n=False):\n",
        "  # auto generate m, n\n",
        "  if not m or not n:\n",
        "    m, n = randint(2, 100), randint(2, 100)\n",
        "\n",
        "  # random matrix size m*n with range [-50, 50]\n",
        "  N = 100 * np.random.rand(m, n) - 50\n",
        "\n",
        "  # create m*m matrix with ones on the diagonal and zeros elsewhere.\n",
        "  B = np.eye(m)\n",
        "\n",
        "  # create indices array\n",
        "  N_ind = np.arange(1, n+1)\n",
        "  B_ind = np.arange(n + 1, n+m+1)\n",
        "\n",
        "  # create basic variables and non-basic variables\n",
        "  b = 100 * np.random.rand(m, 1) - 50\n",
        "  c_N = 100 * np.random.rand(n, 1) - 50\n",
        "\n",
        "  return B, N, B_ind, N_ind, b, c_N"
      ],
      "execution_count": null,
      "outputs": []
    },
    {
      "cell_type": "markdown",
      "metadata": {
        "id": "uEOGufLf5B3N",
        "colab_type": "text"
      },
      "source": [
        "##### Example"
      ]
    },
    {
      "cell_type": "code",
      "metadata": {
        "id": "2GG6ztuF42hX",
        "colab_type": "code",
        "colab": {
          "base_uri": "https://localhost:8080/",
          "height": 272
        },
        "outputId": "e36174e1-9e2f-489e-e336-0e5dc70dd633"
      },
      "source": [
        "B, N, B_ind, N_ind, b, c_N = generate_matrix(2, 3)\n",
        "print('B:')\n",
        "print(B)\n",
        "print('N:')\n",
        "print(N)\n",
        "print('b:')\n",
        "print(b)\n",
        "print('c_N:')\n",
        "print(c_N)\n",
        "print('B_ind:', B_ind)\n",
        "print('N_ind:', N_ind)"
      ],
      "execution_count": null,
      "outputs": [
        {
          "output_type": "stream",
          "text": [
            "B:\n",
            "[[1. 0.]\n",
            " [0. 1.]]\n",
            "N:\n",
            "[[ 18.30661876 -41.59634101 -16.68227209]\n",
            " [-26.50079706   4.89171162  38.8543091 ]]\n",
            "b:\n",
            "[[-5.70003596]\n",
            " [-9.2037884 ]]\n",
            "c_N:\n",
            "[[35.13702477]\n",
            " [30.0752019 ]\n",
            " [41.15109843]]\n",
            "B_ind: [4 5]\n",
            "N_ind: [1 2 3]\n"
          ],
          "name": "stdout"
        }
      ]
    },
    {
      "cell_type": "markdown",
      "metadata": {
        "id": "lnBtvMHb7Inj",
        "colab_type": "text"
      },
      "source": [
        "#### **2)** Write a code to solve the generated LP using two phase simplex method in matrix form."
      ]
    },
    {
      "cell_type": "markdown",
      "metadata": {
        "id": "D9ZVV7bV5Qvu",
        "colab_type": "text"
      },
      "source": [
        "##### Function"
      ]
    },
    {
      "cell_type": "code",
      "metadata": {
        "id": "M0T9EYmy7vfQ",
        "colab_type": "code",
        "colab": {}
      },
      "source": [
        "def two_phase_simplex_method(B, N, B_ind, N_ind, b, c_N):\n",
        "  B = B.copy()\n",
        "  N = N.copy()\n",
        "  B_ind = B_ind.copy()\n",
        "  N_ind = N_ind.copy()\n",
        "  b = b.copy()\n",
        "  c_N = c_N.copy()\n",
        "\n",
        "  # get size matrix\n",
        "  m, n = N.shape\n",
        "  # x_B = b\n",
        "  x_B = b\n",
        "  # z_N = -c_N\n",
        "  z_N = -c_N\n",
        "\n",
        "  if (x_B < 0).sum() == 0:    # check if x_B have negasitive number\n",
        "    try:\n",
        "      B, N, B_ind, N_ind, x_B, z_N = primal_simplex(B, N, B_ind, N_ind, x_B, z_N)\n",
        "    except:\n",
        "      return {'status':'Unbounded', 'x':None}\n",
        "  elif (z_N < 0).sum() == 0:  # check if z_N have negasitive number\n",
        "    try:\n",
        "      B, N, B_ind, N_ind, x_B, z_N = dual_simplex(B, N, B_ind, N_ind, x_B, z_N)\n",
        "    except:\n",
        "      return {'status':'Unbounded', 'x':None}\n",
        "  else:                       # two phase\n",
        "    z_N = np.ones((n, 1))\n",
        "    try:\n",
        "      B, N, B_ind, N_ind, x_B, z_N = dual_simplex(B, N, B_ind, N_ind, x_B, z_N)\n",
        "    except:\n",
        "      return {'status':'Infeasible', 'x':None}\n",
        "\n",
        "    c_N_new = np.array([c_N[i-1][0] if i <=n else 0 for i in N_ind]).reshape(-1, 1)\n",
        "    c_B_new = np.array([c_N[i-1][0] if i <=n else 0 for i in B_ind]).reshape(-1, 1)\n",
        "    z_N = np.linalg.inv(B).dot(N).T.dot(c_B_new) - c_N_new\n",
        "    try:\n",
        "      B, N, B_ind, N_ind, x_B, z_N = primal_simplex(B, N, B_ind, N_ind, x_B, z_N)\n",
        "    except:\n",
        "      return {'status':'Unbounded', 'x':None}\n",
        "\n",
        "  sol = {i: j for i, j in zip(B_ind.flatten(), x_B.flatten())}\n",
        "  x = np.array([sol.get(i, 0) for i in np.arange(1, n+1)])\n",
        "  return {'status':'Optimal', 'x':x}\n",
        "\n",
        "\n",
        "def primal_simplex(B, N, B_ind, N_ind, x_B, z_N):\n",
        "  m, n = N.shape\n",
        "  while(True):\n",
        "    try:\n",
        "      j = np.where(z_N < 0)[0][0]\n",
        "    except:\n",
        "      break\n",
        "    \n",
        "    # calculate denta_x_B\n",
        "    e_j = np.zeros((n, 1))\n",
        "    e_j[j][0] = 1\n",
        "    denta_x_B = np.linalg.inv(B).dot(N).dot(e_j)\n",
        "\n",
        "    # find i, t\n",
        "    i = np.argmax(denta_x_B / (x_B + 10**-6))\n",
        "    t = x_B[i][0] / denta_x_B[i][0]\n",
        "    if t < 0:\n",
        "      # unbounded\n",
        "      return None\n",
        "\n",
        "    # find s, denta_z_N\n",
        "    e_i = np.zeros((m, 1))\n",
        "    e_i[i][0] = 1\n",
        "    denta_z_N = - (np.linalg.inv(B).dot(N)).T.dot(e_i)\n",
        "    s = z_N[j][0] / denta_z_N[j][0]\n",
        "\n",
        "    # update x_B, z_N\n",
        "    x_B = x_B - t * denta_x_B\n",
        "    x_B[i][0] = t\n",
        "    z_N = z_N - s * denta_z_N\n",
        "    z_N[j][0] = s\n",
        "\n",
        "    # create new sets of basic and nonbasic indices\n",
        "    temp = B_ind[i]\n",
        "    B_ind[i] = N_ind[j]\n",
        "    N_ind[j] = temp\n",
        "    temp = np.array(B[:, i])\n",
        "    B[:, i] = np.array(N[:, j])\n",
        "    N[:, j] = temp\n",
        "\n",
        "  return B, N, B_ind, N_ind, x_B, z_N\n",
        "\n",
        "\n",
        "def dual_simplex(B, N, B_ind, N_ind, x_B, z_N):\n",
        "  m, n = N.shape\n",
        "  while(True):\n",
        "    try:\n",
        "      i = np.where(x_B < 0)[0][0]\n",
        "    except:\n",
        "      break\n",
        "    \n",
        "    # calculate denta_z_N\n",
        "    e_i = np.zeros((m, 1))\n",
        "    e_i[i][0] = 1\n",
        "    denta_z_N = - (np.linalg.inv(B).dot(N)).T.dot(e_i)\n",
        "\n",
        "    # find s, j\n",
        "    j = np.argmax(denta_z_N / (z_N + 10**-6))\n",
        "    s = z_N[j][0] / denta_z_N[j][0]\n",
        "    if s < 0:\n",
        "      # unbounded\n",
        "      return None\n",
        "\n",
        "    # find t, denta_x_B\n",
        "    e_j = np.zeros((n, 1))\n",
        "    e_j[j][0] = 1\n",
        "    denta_x_B = np.linalg.inv(B).dot(N).dot(e_j)\n",
        "    t = x_B[i][0] / denta_x_B[i][0]\n",
        "\n",
        "    # update x_B, z_N\n",
        "    x_B = x_B - t * denta_x_B\n",
        "    x_B[i][0] = t\n",
        "    z_N = z_N - s * denta_z_N\n",
        "    z_N[j][0] = s\n",
        "\n",
        "    # create new sets of basic and nonbasic indices\n",
        "    temp = B_ind[i]\n",
        "    B_ind[i] = N_ind[j]\n",
        "    N_ind[j] = temp\n",
        "    temp = np.array(B[:, i])\n",
        "    B[:, i] = np.array(N[:, j])\n",
        "    N[:, j] = temp\n",
        "\n",
        "  return B, N, B_ind, N_ind, x_B, z_N"
      ],
      "execution_count": null,
      "outputs": []
    },
    {
      "cell_type": "markdown",
      "metadata": {
        "id": "-bqT7d4S5UC9",
        "colab_type": "text"
      },
      "source": [
        "##### Example\n",
        "![alt text](https://github.com/tadangkhoa1999/Simplex-Method-Python-example/blob/master/img/example_1.png?raw=true)"
      ]
    },
    {
      "cell_type": "code",
      "metadata": {
        "id": "iBMa0Ez45Woz",
        "colab_type": "code",
        "colab": {
          "base_uri": "https://localhost:8080/",
          "height": 34
        },
        "outputId": "10d556b5-bb4a-4426-c844-01b525f7a123"
      },
      "source": [
        "m, n = 2, 3\n",
        "B = np.array([[1, 0], [0, 1]])\n",
        "N = np.array([[-1, -1, -1], [2, -1, 1]])\n",
        "N_ind = np.arange(1, n+1)\n",
        "B_ind = np.arange(n + 1, n+m+1)\n",
        "x_B = np.array([[-2], [1]])\n",
        "z_N = np.array([[-2], [6], [0]])\n",
        "\n",
        "# test two_phase_simplex_method\n",
        "sol = two_phase_simplex_method(B, N, B_ind, N_ind, x_B, -z_N)\n",
        "if sol['status'] == 'Optimal':\n",
        "  print(sol['x'])\n",
        "else:\n",
        "  print(sol['status'])"
      ],
      "execution_count": null,
      "outputs": [
        {
          "output_type": "stream",
          "text": [
            "[0.  0.5 1.5]\n"
          ],
          "name": "stdout"
        }
      ]
    },
    {
      "cell_type": "markdown",
      "metadata": {
        "id": "T6NrVir87Tfn",
        "colab_type": "text"
      },
      "source": [
        "#### **3)** Solve the generated LP by a tool such as CVX, Cplex, ... to check your code."
      ]
    },
    {
      "cell_type": "markdown",
      "metadata": {
        "id": "3Ym4NQci3YKo",
        "colab_type": "text"
      },
      "source": [
        "##### Function"
      ]
    },
    {
      "cell_type": "code",
      "metadata": {
        "id": "EYeUD2O97v9B",
        "colab_type": "code",
        "colab": {}
      },
      "source": [
        "def cplex_simplex_method(N, x_B, c_N):\n",
        "  # The Linear Programming problem displayed bellow is as:\n",
        "  #                  min z = c.x\n",
        "  #    subject to:      Ax = b\n",
        "  num_constraints, num_decision_var = N.shape\n",
        "  A = N.astype(np.float).tolist()\n",
        "  b = x_B.flatten().astype(np.float).tolist()\n",
        "  c = (-c_N.flatten().astype(np.float)).tolist()\n",
        "\n",
        "  # Establish the Linear Programming Model\n",
        "  myProblem = cplex.Cplex()\n",
        "  myProblem = cplex.Cplex()\n",
        "  myProblem.set_log_stream(None)\n",
        "  myProblem.set_error_stream(None)\n",
        "  myProblem.set_warning_stream(None)\n",
        "  myProblem.set_results_stream(None)\n",
        "  # Add the decision variables and set their lower bound and upper bound (if necessary)\n",
        "  myProblem.variables.add(names= [\"x\"+str(i) for i in range(num_decision_var)])\n",
        "  for i in range(num_decision_var):\n",
        "    myProblem.variables.set_lower_bounds(i, 0.0)\n",
        "\n",
        "  # Add constraints\n",
        "  for i in range(num_constraints):\n",
        "    myProblem.linear_constraints.add(\n",
        "      lin_expr= [cplex.SparsePair(ind= [j for j in range(num_decision_var)], val= A[i])],\n",
        "      rhs= [b[i]],\n",
        "      names = [\"c\"+str(i)],\n",
        "      senses = [\"L\"]\n",
        "    )\n",
        "\n",
        "  # Add objective function and set its sense\n",
        "  for i in range(num_decision_var):\n",
        "    myProblem.objective.set_linear([(i, c[i])])\n",
        "  myProblem.objective.set_sense(myProblem.objective.sense.minimize)\n",
        "  # Solve the model and print the answer\n",
        "  myProblem.solve()\n",
        "  optimal_sol = myProblem.solution.get_values()\n",
        "  return optimal_sol"
      ],
      "execution_count": null,
      "outputs": []
    },
    {
      "cell_type": "markdown",
      "metadata": {
        "id": "13cfGNK-3Z9W",
        "colab_type": "text"
      },
      "source": [
        "##### Example"
      ]
    },
    {
      "cell_type": "code",
      "metadata": {
        "id": "QWeVJ9Yi3cF3",
        "colab_type": "code",
        "colab": {
          "base_uri": "https://localhost:8080/"
        },
        "outputId": "4e4896a6-5173-4c13-8c70-4e39b2b881dd"
      },
      "source": [
        "sol = cplex_simplex_method(N, x_B, -z_N)\n",
        "print('='*20)\n",
        "print(sol)"
      ],
      "execution_count": null,
      "outputs": [
        {
          "output_type": "stream",
          "text": [
            "====================\n",
            "[0.0, 0.5, 1.5]\n"
          ],
          "name": "stdout"
        }
      ]
    },
    {
      "cell_type": "markdown",
      "metadata": {
        "id": "-Lu3PzXq7es6",
        "colab_type": "text"
      },
      "source": [
        "#### **4)** Repeat (1)-(3) one hundred times and compare the mean and standard deviation of rune time of your code with those of the chosen tool."
      ]
    },
    {
      "cell_type": "markdown",
      "metadata": {
        "id": "ZXqTE-5_3hQl",
        "colab_type": "text"
      },
      "source": [
        "##### Function"
      ]
    },
    {
      "cell_type": "code",
      "metadata": {
        "id": "W2DU0jF_7wY6",
        "colab_type": "code",
        "colab": {}
      },
      "source": [
        "mycode_time = []\n",
        "tool_time = []\n",
        "for i in range(100):\n",
        "  B, N, B_ind, N_ind, b, c_N = generate_matrix()\n",
        "\n",
        "  begin_time = datetime.datetime.now().timestamp()\n",
        "  sol = two_phase_simplex_method(B, N, B_ind, N_ind, b, c_N)\n",
        "  mycode_time.append(datetime.datetime.now().timestamp() - begin_time)\n",
        "  begin_time = datetime.datetime.now().timestamp()\n",
        "  try:\n",
        "    optimal_sol,c_optimal_val = cplex_simplex_method(N, b, c_N)\n",
        "  except:\n",
        "    c_optimal_val = None\n",
        "  tool_time.append(datetime.datetime.now().timestamp() - begin_time)"
      ],
      "execution_count": null,
      "outputs": []
    },
    {
      "cell_type": "markdown",
      "metadata": {
        "id": "l0DB1DcJ3kAS",
        "colab_type": "text"
      },
      "source": [
        "##### Result"
      ]
    },
    {
      "cell_type": "code",
      "metadata": {
        "id": "XimtYzkqpbqh",
        "colab_type": "code",
        "colab": {
          "base_uri": "https://localhost:8080/",
          "height": 85
        },
        "outputId": "c8015039-f30c-4668-8c46-c8eda54b860b"
      },
      "source": [
        "print(\"My code mean time:\", np.mean(mycode_time))\n",
        "print(\"My code standard deviation:\", np.std(mycode_time))\n",
        "print(\"Cplex tool mean time:\", np.mean(tool_time))\n",
        "print(\"Cplex tool standard deviation:\", np.std(tool_time))"
      ],
      "execution_count": null,
      "outputs": [
        {
          "output_type": "stream",
          "text": [
            "My code mean time: 0.17922647476196288\n",
            "My code standard deviation: 0.2850430592997775\n",
            "Cplex tool mean time: 0.01003655195236206\n",
            "Cplex tool standard deviation: 0.00760154565338687\n"
          ],
          "name": "stdout"
        }
      ]
    },
    {
      "cell_type": "markdown",
      "metadata": {
        "id": "NRMmm_jdNC9O",
        "colab_type": "text"
      },
      "source": [
        "# **Part 2: Game theory**"
      ]
    },
    {
      "cell_type": "markdown",
      "metadata": {
        "id": "MYXfJLzINY86",
        "colab_type": "text"
      },
      "source": [
        "#### ![alt text](https://github.com/tadangkhoa1999/Simplex-Method-Python-example/blob/master/img/game_theory_ex.png?raw=true)"
      ]
    },
    {
      "cell_type": "code",
      "metadata": {
        "id": "z-_B1CD_N1dJ",
        "colab_type": "code",
        "colab": {
          "base_uri": "https://localhost:8080/",
          "height": 187
        },
        "outputId": "6b14275f-1d61-4cad-ccc9-7142b26fd5d0"
      },
      "source": [
        "# generate the payoff matrix\n",
        "# if i < j-1 or i = j+1 then i win        => -1\n",
        "# else if i == j then draw                =>  0\n",
        "# else if j < i-1 or j = i+1 then j win   =>  1\n",
        "n = 10\n",
        "A = np.ones((n, n))\n",
        "for i in range(n):\n",
        "  for j in range(n):\n",
        "    if i < j - 1 or i == j + 1:\n",
        "      A[i, j] = -1\n",
        "    elif i == j:\n",
        "      A[i, j] = 0\n",
        "\n",
        "print(A)"
      ],
      "execution_count": null,
      "outputs": [
        {
          "output_type": "stream",
          "text": [
            "[[ 0.  1. -1. -1. -1. -1. -1. -1. -1. -1.]\n",
            " [-1.  0.  1. -1. -1. -1. -1. -1. -1. -1.]\n",
            " [ 1. -1.  0.  1. -1. -1. -1. -1. -1. -1.]\n",
            " [ 1.  1. -1.  0.  1. -1. -1. -1. -1. -1.]\n",
            " [ 1.  1.  1. -1.  0.  1. -1. -1. -1. -1.]\n",
            " [ 1.  1.  1.  1. -1.  0.  1. -1. -1. -1.]\n",
            " [ 1.  1.  1.  1.  1. -1.  0.  1. -1. -1.]\n",
            " [ 1.  1.  1.  1.  1.  1. -1.  0.  1. -1.]\n",
            " [ 1.  1.  1.  1.  1.  1.  1. -1.  0.  1.]\n",
            " [ 1.  1.  1.  1.  1.  1.  1.  1. -1.  0.]]\n"
          ],
          "name": "stdout"
        }
      ]
    },
    {
      "cell_type": "markdown",
      "metadata": {
        "id": "tqLRmyA_zoMs",
        "colab_type": "text"
      },
      "source": [
        "![alt text](https://github.com/tadangkhoa1999/Simplex-Method-Python-example/blob/master/img/game_theory_1.png?raw=true)![alt text](https://github.com/tadangkhoa1999/Simplex-Method-Python-example/blob/master/img/game_theory_2.png?raw=true)"
      ]
    },
    {
      "cell_type": "code",
      "metadata": {
        "id": "U8slGWIh_kxU",
        "colab_type": "code",
        "colab": {}
      },
      "source": [
        "import cplex\n",
        "\n",
        "# ============================================================\n",
        "# The Linear Programming problem displayed bellow is as:\n",
        "#                  min z = cx\n",
        "#    subject to:      Nx = b\n",
        "# ============================================================\n",
        "\n",
        "# Input all the data and parameters here\n",
        "num_decision_var = n + 1\n",
        "num_constraints = n + 1"
      ],
      "execution_count": null,
      "outputs": []
    },
    {
      "cell_type": "code",
      "metadata": {
        "id": "STx8Uitl3yph",
        "colab_type": "code",
        "colab": {
          "base_uri": "https://localhost:8080/",
          "height": 204
        },
        "outputId": "e9c7a92d-5500-4806-f42c-912bf9959f6a"
      },
      "source": [
        "# Create matrix N for linear program\n",
        "N = np.append(-A, np.ones((n, 1)), axis=1)\n",
        "N = np.append(N, np.ones((1, n+1)), axis=0)\n",
        "N[n, n] = 0\n",
        "print(N)\n",
        "N = N.astype(np.float).tolist()"
      ],
      "execution_count": null,
      "outputs": [
        {
          "output_type": "stream",
          "text": [
            "[[-0. -1.  1.  1.  1.  1.  1.  1.  1.  1.  1.]\n",
            " [ 1. -0. -1.  1.  1.  1.  1.  1.  1.  1.  1.]\n",
            " [-1.  1. -0. -1.  1.  1.  1.  1.  1.  1.  1.]\n",
            " [-1. -1.  1. -0. -1.  1.  1.  1.  1.  1.  1.]\n",
            " [-1. -1. -1.  1. -0. -1.  1.  1.  1.  1.  1.]\n",
            " [-1. -1. -1. -1.  1. -0. -1.  1.  1.  1.  1.]\n",
            " [-1. -1. -1. -1. -1.  1. -0. -1.  1.  1.  1.]\n",
            " [-1. -1. -1. -1. -1. -1.  1. -0. -1.  1.  1.]\n",
            " [-1. -1. -1. -1. -1. -1. -1.  1. -0. -1.  1.]\n",
            " [-1. -1. -1. -1. -1. -1. -1. -1.  1. -0.  1.]\n",
            " [ 1.  1.  1.  1.  1.  1.  1.  1.  1.  1.  0.]]\n"
          ],
          "name": "stdout"
        }
      ]
    },
    {
      "cell_type": "code",
      "metadata": {
        "id": "CDl7t00a_o7-",
        "colab_type": "code",
        "colab": {
          "base_uri": "https://localhost:8080/",
          "height": 34
        },
        "outputId": "ad07f012-ce71-4b7c-9d8e-048ba9b5dfe1"
      },
      "source": [
        "# Create vector b with all 0 and last element is 1\n",
        "b = np.zeros((n+1,))\n",
        "b[-1] = 1\n",
        "print(b)\n",
        "b = b.astype(np.float).tolist()"
      ],
      "execution_count": null,
      "outputs": [
        {
          "output_type": "stream",
          "text": [
            "[0. 0. 0. 0. 0. 0. 0. 0. 0. 0. 1.]\n"
          ],
          "name": "stdout"
        }
      ]
    },
    {
      "cell_type": "code",
      "metadata": {
        "id": "F7e-jjGnAmFO",
        "colab_type": "code",
        "colab": {
          "base_uri": "https://localhost:8080/",
          "height": 34
        },
        "outputId": "c0c12eca-e513-406f-e0c7-bc7f18297dee"
      },
      "source": [
        "# Create vector c with all 0 and last elemet is -1 (for maximum)\n",
        "c = np.zeros((n+1,))\n",
        "c[-1] = -1\n",
        "print(c)\n",
        "c = c.astype(np.float).tolist()"
      ],
      "execution_count": null,
      "outputs": [
        {
          "output_type": "stream",
          "text": [
            "[ 0.  0.  0.  0.  0.  0.  0.  0.  0.  0. -1.]\n"
          ],
          "name": "stdout"
        }
      ]
    },
    {
      "cell_type": "code",
      "metadata": {
        "id": "VKaPDCenLPLt",
        "colab_type": "code",
        "colab": {
          "base_uri": "https://localhost:8080/",
          "height": 34
        },
        "outputId": "536afce2-9870-43f8-cbd7-1a0d3abf54f6"
      },
      "source": [
        "# Create array of constraint type\n",
        "# 'L', 'G', 'E' are Less, Greater, Equal\n",
        "# All is less and the last one is equal\n",
        "constraint_type = list()\n",
        "for i in range(n):\n",
        "  constraint_type.append(\"L\")\n",
        "\n",
        "constraint_type.append(\"E\")\n",
        "print(constraint_type)"
      ],
      "execution_count": null,
      "outputs": [
        {
          "output_type": "stream",
          "text": [
            "['L', 'L', 'L', 'L', 'L', 'L', 'L', 'L', 'L', 'L', 'E']\n"
          ],
          "name": "stdout"
        }
      ]
    },
    {
      "cell_type": "code",
      "metadata": {
        "id": "drFxGPXzzEh1",
        "colab_type": "code",
        "colab": {
          "base_uri": "https://localhost:8080/",
          "height": 204
        },
        "outputId": "98a310ac-1ae4-4eae-a80d-450916d5b721"
      },
      "source": [
        "# Establish the Linear Programming Model\n",
        "myProblem = cplex.Cplex()\n",
        "\n",
        "# Add the decision variables and set their lower bound and upper bound (if necessary)\n",
        "myProblem.variables.add(names= [\"x\"+str(i) for i in range(num_decision_var)])\n",
        "for i in range(num_decision_var):\n",
        "    myProblem.variables.set_lower_bounds(i, 0.0)\n",
        "\n",
        "# Add constraints\n",
        "for i in range(num_constraints):\n",
        "    myProblem.linear_constraints.add(\n",
        "        lin_expr= [cplex.SparsePair(ind= [j for j in range(num_decision_var)], val= N[i])],\n",
        "        rhs= [b[i]],\n",
        "        names = [\"c\"+str(i)],\n",
        "        senses = [constraint_type[i]]\n",
        "    )\n",
        "\n",
        "# Add objective function and set its sense\n",
        "for i in range(num_decision_var):\n",
        "    myProblem.objective.set_linear([(i, c[i])])\n",
        "myProblem.objective.set_sense(myProblem.objective.sense.minimize)\n",
        "\n",
        "# Solve the model and print the answer\n",
        "myProblem.solve()\n",
        "print(myProblem.solution.get_values())"
      ],
      "execution_count": null,
      "outputs": [
        {
          "output_type": "stream",
          "text": [
            "Version identifier: 12.10.0.0 | 2019-11-27 | 843d4de\n",
            "CPXPARAM_Read_DataCheck                          1\n",
            "Tried aggregator 1 time.\n",
            "No LP presolve or aggregator reductions.\n",
            "Presolve time = 0.00 sec. (0.02 ticks)\n",
            "Initializing dual steep norms . . .\n",
            "\n",
            "Iteration log . . .\n",
            "Iteration:     1   Dual infeasibility =             1.000000\n",
            "Iteration:     3   Dual objective     =             0.000000\n",
            "[0.3333333333333334, 0.3333333333333333, 0.3333333333333333, 0.0, 0.0, 0.0, 0.0, 0.0, 0.0, 0.0, 0.0]\n"
          ],
          "name": "stdout"
        }
      ]
    },
    {
      "cell_type": "markdown",
      "metadata": {
        "id": "SdsufbXQOg5U",
        "colab_type": "text"
      },
      "source": [
        "# **Part 3: Integer Programming (Branch-and-Bound)**"
      ]
    },
    {
      "cell_type": "markdown",
      "metadata": {
        "id": "m8KP1W1QV_ch",
        "colab_type": "text"
      },
      "source": [
        "#### 1) Generate input matrices of Branch-and-Bound program in matrix form."
      ]
    },
    {
      "cell_type": "code",
      "metadata": {
        "id": "OvOM9DxM5MS7",
        "colab_type": "code",
        "colab": {}
      },
      "source": [
        "def generate_matrix(m=False, n=False):              # all is interger in normal distribution\n",
        "  # auto generate m, n\n",
        "  if not m or not n:\n",
        "    m, n = randint(2, 15), randint(2, 15)\n",
        "\n",
        "  # random matrix size m*n with range [-25, 25]\n",
        "  N = np.round(np.random.normal(0, 25, size=(m, n)))\n",
        "\n",
        "  # create m*m matrix with ones on the diagonal and zeros elsewhere.\n",
        "  B = np.eye(m)\n",
        "\n",
        "  # create indices array\n",
        "  N_ind = np.arange(1, n+1)\n",
        "  B_ind = np.arange(n + 1, n+m+1)\n",
        "\n",
        "  # create basic variables and non-basic variables\n",
        "  b = np.round(np.random.normal(0, 7, size=(m, 1)))\n",
        "  c_N = np.round(np.random.normal(0, 25, size=(n, 1)))\n",
        "\n",
        "  return B, N, B_ind, N_ind, b, c_N"
      ],
      "execution_count": null,
      "outputs": []
    },
    {
      "cell_type": "markdown",
      "metadata": {
        "id": "OCWiwfV6WFxW",
        "colab_type": "text"
      },
      "source": [
        "#### 2) Write a code to solve the Branch-and-Bound."
      ]
    },
    {
      "cell_type": "markdown",
      "metadata": {
        "id": "kGbrJmRuePYC",
        "colab_type": "text"
      },
      "source": [
        "##### Function\n"
      ]
    },
    {
      "cell_type": "code",
      "metadata": {
        "id": "GbbpcwiVWOgX",
        "colab_type": "code",
        "colab": {}
      },
      "source": [
        "def is_integer_num(n):                                    # Check interger\n",
        "  if isinstance(n, int):\n",
        "    return True\n",
        "  if isinstance(n, float):\n",
        "    return n.is_integer()\n",
        "  return False\n",
        "\n",
        "def find_float(sol_x):                                    # Find float position\n",
        "  for i, x in enumerate(sol_x):\n",
        "    if not is_integer_num(x):\n",
        "      return (i+1, x)\n",
        "  return (-1, None)\n",
        "\n",
        "def create_LP_relaxation(B, N, B_ind, N_ind, b, c_N, pos_float, x):\n",
        "  m, n = N.shape\n",
        "  B = np.eye(m+1)\n",
        "  B_ind = np.arange(n + 1, n+m+2)\n",
        "  b1  = np.append(b, math.floor(x)).reshape((-1, 1))\n",
        "  b2  = np.append(b, -math.ceil(x)).reshape((-1, 1))\n",
        "  e_i = np.zeros((1, n))\n",
        "  e_i[0, pos_float-1] = 1\n",
        "  N1 = np.append(N, e_i, axis=0)\n",
        "  N2 = np.append(N, -e_i, axis=0)\n",
        "  return ((B, N1, B_ind, N_ind, b1, c_N), (B, N2, B_ind, N_ind, b2, c_N))\n",
        "\n",
        "def branch_and_bound(B, N, B_ind, N_ind, b, c_N):\n",
        "  # Create tree\n",
        "  tree = []\n",
        "  tree.append((B, N, B_ind, N_ind, b, c_N))\n",
        "\n",
        "  # Solve\n",
        "  max = -1                                                  # max of problem (interger)\n",
        "  sol_x = None\n",
        "  while tree:                                               # check tree is empty\n",
        "    # pop node and solve LP\n",
        "    B, N, B_ind, N_ind, b, c_N = tree.pop(0)\n",
        "    sol = two_phase_simplex_method(B, N, B_ind, N_ind, b, c_N)\n",
        "    if sol['status'] == 'Unbounded':\n",
        "      return {'status':'Unbounded', 'x':None}               # if this LP_relaxation is Unbounded => Unbounded\n",
        "    elif sol['status'] == 'Infeasible':                     # elif this LP_relaxation is Infeasible => continue\n",
        "      continue\n",
        "    \n",
        "    # if LP_relaxation has solution\n",
        "    LP_relaxation_max = np.dot(c_N.flatten(), sol['x'].flatten())\n",
        "    if LP_relaxation_max <= max:                           # check if float maximum is less than our maximum\n",
        "      continue\n",
        "\n",
        "    pos_float, x = find_float(sol['x'])\n",
        "    if pos_float > 0:                                       # if LP_relaxation has solution and has float x\n",
        "      for i in create_LP_relaxation(B, N, B_ind, N_ind, b, c_N, pos_float, x):\n",
        "        tree.append(i)\n",
        "    else:                                                   # if LP_relaxation has solution and all is interger\n",
        "      max = LP_relaxation_max\n",
        "      sol_x = sol['x']\n",
        "    \n",
        "  if sol_x is None:                                         # if can't find any solution\n",
        "    return {'status':'Infeasible', 'x':None}\n",
        "\n",
        "  return {'status':'Optimal', 'x':sol_x}"
      ],
      "execution_count": null,
      "outputs": []
    },
    {
      "cell_type": "markdown",
      "metadata": {
        "id": "pIHw-tAteRFT",
        "colab_type": "text"
      },
      "source": [
        "##### Example\n",
        "![alt text](https://github.com/tadangkhoa1999/Simplex-Method-Python-example/blob/master/img/Branch_and_Bound_ex.png?raw=true)"
      ]
    },
    {
      "cell_type": "code",
      "metadata": {
        "id": "Oc-TcWCkLDnt",
        "colab_type": "code",
        "colab": {
          "base_uri": "https://localhost:8080/",
          "height": 34
        },
        "outputId": "21ccc2c2-6ac1-4790-c677-c5bba0c4450f"
      },
      "source": [
        "m, n = 2, 2\n",
        "B = np.eye(m)\n",
        "N = np.array([[10, 7], [1, 1]])\n",
        "N_ind = np.arange(1, n+1)\n",
        "B_ind = np.arange(n + 1, n+m+1)\n",
        "x_B = np.array([[40], [5]])\n",
        "c_N = np.array([[17], [12]])\n",
        "\n",
        "sol = branch_and_bound(B, N, B_ind, N_ind, x_B, c_N)\n",
        "if sol['status'] == 'Optimal':\n",
        "  print(sol['x'])\n",
        "else:\n",
        "  print(sol['status'])"
      ],
      "execution_count": null,
      "outputs": [
        {
          "output_type": "stream",
          "text": [
            "[4. 0.]\n"
          ],
          "name": "stdout"
        }
      ]
    },
    {
      "cell_type": "markdown",
      "metadata": {
        "id": "QNTWvTNzJzmw",
        "colab_type": "text"
      },
      "source": [
        "#### 3) Solve the generated LP by a tool such as CVX, Cplex, ... to check your code."
      ]
    },
    {
      "cell_type": "markdown",
      "metadata": {
        "id": "7LhKwR78KjOw",
        "colab_type": "text"
      },
      "source": [
        "##### Function"
      ]
    },
    {
      "cell_type": "code",
      "metadata": {
        "id": "A7XJjkh2MbkM",
        "colab_type": "code",
        "colab": {
          "base_uri": "https://localhost:8080/",
          "height": 326
        },
        "outputId": "1b173b81-e9a6-4fa2-8196-4ac121e665dc"
      },
      "source": [
        "# install library\n",
        "!pip install pulp"
      ],
      "execution_count": null,
      "outputs": [
        {
          "output_type": "stream",
          "text": [
            "Collecting pulp\n",
            "\u001b[?25l  Downloading https://files.pythonhosted.org/packages/16/c8/cdb6e4c47c775e837f6f1a26162963440b7f9d47d01dcb92ce712d5eecb9/PuLP-2.2-py3-none-any.whl (40.6MB)\n",
            "\u001b[K     |████████████████████████████████| 40.6MB 84kB/s \n",
            "\u001b[?25hCollecting amply>=0.1.2\n",
            "  Downloading https://files.pythonhosted.org/packages/7f/11/33cb09557ac838d9488779b79e05a2a3c1f3ce9747cd242ba68332736778/amply-0.1.2.tar.gz\n",
            "  Installing build dependencies ... \u001b[?25l\u001b[?25hdone\n",
            "  Getting requirements to build wheel ... \u001b[?25l\u001b[?25hdone\n",
            "    Preparing wheel metadata ... \u001b[?25l\u001b[?25hdone\n",
            "Requirement already satisfied: pyparsing in /usr/local/lib/python3.6/dist-packages (from amply>=0.1.2->pulp) (2.4.7)\n",
            "Requirement already satisfied: docutils>=0.3 in /usr/local/lib/python3.6/dist-packages (from amply>=0.1.2->pulp) (0.15.2)\n",
            "Building wheels for collected packages: amply\n",
            "  Building wheel for amply (PEP 517) ... \u001b[?25l\u001b[?25hdone\n",
            "  Created wheel for amply: filename=amply-0.1.2-cp36-none-any.whl size=16572 sha256=2875115072bba06b4358b33517939aa682e370326823654fc1f0df75da8d8a1e\n",
            "  Stored in directory: /root/.cache/pip/wheels/84/18/f7/e5c3ed13ed5bb721763f77d4a924331d59ef115ce61c9d26eb\n",
            "Successfully built amply\n",
            "Installing collected packages: amply, pulp\n",
            "Successfully installed amply-0.1.2 pulp-2.2\n"
          ],
          "name": "stdout"
        }
      ]
    },
    {
      "cell_type": "code",
      "metadata": {
        "id": "KYKBQv3YJ9ka",
        "colab_type": "code",
        "colab": {}
      },
      "source": [
        "from pulp import LpMaximize, LpProblem, LpStatus, lpSum, LpVariable, LpInteger\n",
        "\n",
        "def pulp_branch_and_bound(B, N, B_ind, N_ind, x_B, c_N):\n",
        "  # Create the model\n",
        "  model = LpProblem(name=\"small-problem\", sense=LpMaximize)\n",
        "\n",
        "  # Initialize the decision variables\n",
        "  X = []                                                  # list of variables\n",
        "  for i in range(c_N.shape[0]):\n",
        "    X.append(LpVariable(name=\"x\"+str(i+1), lowBound=0, cat=LpInteger))\n",
        "\n",
        "  # Add the constraints to the model\n",
        "  for i, a in enumerate(N):                               # contrain_i\n",
        "    constraint = 0\n",
        "    for j, a_ij in enumerate(a):\n",
        "      constraint += a_ij * X[j]\n",
        "    model += (constraint <= x_B[i])\n",
        "\n",
        "  # Add the objective function to the model\n",
        "  model += lpSum([c * x for c, x in zip(c_N.flatten(), X)])\n",
        "\n",
        "  # Solve the problem\n",
        "  status = model.solve()\n",
        "  print(f\"status: {model.status}, {LpStatus[model.status]}\")\n",
        "  for var in model.variables():\n",
        "    print(f\"{var.name}: {var.value()}\")"
      ],
      "execution_count": null,
      "outputs": []
    },
    {
      "cell_type": "markdown",
      "metadata": {
        "id": "hltrD7deKoRO",
        "colab_type": "text"
      },
      "source": [
        "##### Example"
      ]
    },
    {
      "cell_type": "code",
      "metadata": {
        "id": "uUhx1VuTKpf_",
        "colab_type": "code",
        "colab": {
          "base_uri": "https://localhost:8080/",
          "height": 68
        },
        "outputId": "8a8f24e5-c51d-4bac-dbb9-7983eba21fd9"
      },
      "source": [
        "m, n = 2, 2\n",
        "B = np.eye(m)\n",
        "N = np.array([[10, 7], [1, 1]])\n",
        "N_ind = np.arange(1, n+1)\n",
        "B_ind = np.arange(n + 1, n+m+1)\n",
        "x_B = np.array([[40], [5]])\n",
        "c_N = np.array([[17], [12]])\n",
        "\n",
        "pulp_branch_and_bound(B, N, B_ind, N_ind, x_B, c_N)"
      ],
      "execution_count": null,
      "outputs": [
        {
          "output_type": "stream",
          "text": [
            "status: 1, Optimal\n",
            "x1: 4.0\n",
            "x2: 0.0\n"
          ],
          "name": "stdout"
        }
      ]
    },
    {
      "cell_type": "markdown",
      "metadata": {
        "id": "s-6Bbp8SWYcX",
        "colab_type": "text"
      },
      "source": [
        "#### 4) Repeat (1)-(2) one hundred times to check the mean and standard deviation of rune time of your code."
      ]
    },
    {
      "cell_type": "code",
      "metadata": {
        "id": "dMFBfW0YWcav",
        "colab_type": "code",
        "colab": {}
      },
      "source": [
        "%%capture\n",
        "mycode_time = []\n",
        "tool_time = []\n",
        "for i in range(50):\n",
        "  B, N, B_ind, N_ind, b, c_N = generate_matrix()\n",
        "  begin_time = datetime.datetime.now().timestamp()\n",
        "  try:\n",
        "    sol = branch_and_bound(B, N, B_ind, N_ind, b, c_N)\n",
        "  except:\n",
        "    print('error!')\n",
        "    print(B, N, B_ind, N_ind, b, c_N)\n",
        "  mycode_time.append(datetime.datetime.now().timestamp() - begin_time)\n",
        "\n",
        "  begin_time = datetime.datetime.now().timestamp()\n",
        "  try:\n",
        "    pulp_branch_and_bound(B, N, B_ind, N_ind, x_B, c_N)\n",
        "  except:\n",
        "    print('error!')\n",
        "    print(B, N, B_ind, N_ind, b, c_N)\n",
        "  tool_time.append(datetime.datetime.now().timestamp() - begin_time)"
      ],
      "execution_count": null,
      "outputs": []
    },
    {
      "cell_type": "code",
      "metadata": {
        "id": "2GlF30Ft_Mbm",
        "colab_type": "code",
        "colab": {
          "base_uri": "https://localhost:8080/",
          "height": 85
        },
        "outputId": "b28bff14-e324-42b0-cff0-6b1f9777cb6a"
      },
      "source": [
        "print(\"My code mean time:\", np.mean(mycode_time))\n",
        "print(\"My code standard deviation:\", np.std(mycode_time))\n",
        "print(\"Tool mean time:\", np.mean(tool_time))\n",
        "print(\"Tool standard deviation:\", np.std(tool_time))"
      ],
      "execution_count": null,
      "outputs": [
        {
          "output_type": "stream",
          "text": [
            "My code mean time: 0.0011751127243041992\n",
            "My code standard deviation: 0.001474042409928471\n",
            "Tool mean time: 0.001769728660583496\n",
            "Tool standard deviation: 0.0030153585581455884\n"
          ],
          "name": "stdout"
        }
      ]
    }
  ]
}